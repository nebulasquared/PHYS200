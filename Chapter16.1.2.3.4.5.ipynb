{
 "metadata": {
  "name": "Chapter16.1.2.3.4.5"
 }, 
 "nbformat": 2, 
 "worksheets": [
  {
   "cells": [
    {
     "cell_type": "code", 
     "collapsed": true, 
     "input": [
      "#CHapter 16.1", 
      "", 
      "def print_time(t):", 
      "    print '%.2d:%.2d:%.2d'"
     ], 
     "language": "python", 
     "outputs": [], 
     "prompt_number": 1
    }, 
    {
     "cell_type": "code", 
     "collapsed": false, 
     "input": [
      "#16.2", 
      "", 
      "def is_after(t1, t2):", 
      "    #return (t1[0], t1[1], t1[2]) > (t2[0], t2[1], t2[2])", 
      "    return (t1.hour, t1.minute, t1.second) > (t2.hour, t2.minute, t2.second)"
     ], 
     "language": "python", 
     "outputs": [], 
     "prompt_number": 45
    }, 
    {
     "cell_type": "code", 
     "collapsed": true, 
     "input": [
      "#16.3", 
      "", 
      "#Original increment", 
      "", 
      "def increment(time, seconds):", 
      "    time.second += seconds", 
      "    if time.second >= 60:", 
      "        time.second -= 60", 
      "        time.minute += 1", 
      "    if time.minute >= 60:", 
      "        time.minute -= 60", 
      "        time.hour += 1"
     ], 
     "language": "python", 
     "outputs": [], 
     "prompt_number": 40
    }, 
    {
     "cell_type": "code", 
     "collapsed": true, 
     "input": [
      "def increments(time,seconds):", 
      "    time.second += seconds", 
      "    time.minute += time.second/60.0", 
      "    time.hour += time.minute/60.0", 
      "    time.second %= 60", 
      "    time.minute %= 60", 
      "    time.hour %= 24"
     ], 
     "language": "python", 
     "outputs": [], 
     "prompt_number": 41
    }, 
    {
     "cell_type": "code", 
     "collapsed": false, 
     "input": [
      "from numpy import*", 
      "", 
      "#time = array(0, 0, 360)", 
      "increments(time, 360)"
     ], 
     "language": "python", 
     "outputs": [
      {
       "ename": "AttributeError", 
       "evalue": "'numpy.ndarray' object has no attribute 'second'", 
       "output_type": "pyerr", 
       "traceback": [
        "<span class=\"ansired\">---------------------------------------------------------------------------</span>\n<span class=\"ansired\">AttributeError</span>                            Traceback (most recent call last)", 
        "<span class=\"ansigreen\">/home/kathryn/PHYS200/&lt;ipython-input-43-a5e14b61fe66&gt;</span> in <span class=\"ansicyan\">&lt;module&gt;</span><span class=\"ansiblue\">()</span>\n<span class=\"ansigreen\">      2</span> <span class=\"ansiyellow\"></span>\n<span class=\"ansigreen\">      3</span> <span class=\"ansired\">#time = array(0, 0, 360)</span>\n<span class=\"ansiyellow\"></span>\n<span class=\"ansigreen\">----&gt; 4</span><span class=\"ansiyellow\"> </span>increments<span class=\"ansiyellow\">(</span>time<span class=\"ansiyellow\">,</span> <span class=\"ansicyan\">360</span><span class=\"ansiyellow\">)</span><span class=\"ansiyellow\"></span>\n", 
        "<span class=\"ansigreen\">/home/kathryn/PHYS200/&lt;ipython-input-41-ce288461f796&gt;</span> in <span class=\"ansicyan\">increments</span><span class=\"ansiblue\">(time, seconds)</span>\n<span class=\"ansigreen\">      1</span> <span class=\"ansigreen\">def</span> increments<span class=\"ansiyellow\">(</span>time<span class=\"ansiyellow\">,</span>seconds<span class=\"ansiyellow\">)</span><span class=\"ansiyellow\">:</span><span class=\"ansiyellow\"></span>\n<span class=\"ansigreen\">----&gt; 2</span><span class=\"ansiyellow\">     </span>time<span class=\"ansiyellow\">.</span>second <span class=\"ansiyellow\">+=</span> seconds<span class=\"ansiyellow\"></span>\n<span class=\"ansigreen\">      3</span>     time<span class=\"ansiyellow\">.</span>minute <span class=\"ansiyellow\">+=</span> time<span class=\"ansiyellow\">.</span>second<span class=\"ansiyellow\">/</span><span class=\"ansicyan\">60.0</span><span class=\"ansiyellow\"></span>\n<span class=\"ansigreen\">      4</span>     time<span class=\"ansiyellow\">.</span>hour <span class=\"ansiyellow\">+=</span> time<span class=\"ansiyellow\">.</span>minute<span class=\"ansiyellow\">/</span><span class=\"ansicyan\">60.0</span><span class=\"ansiyellow\"></span>\n<span class=\"ansigreen\">      5</span>     time<span class=\"ansiyellow\">.</span>second <span class=\"ansiyellow\">%=</span> <span class=\"ansicyan\">60</span><span class=\"ansiyellow\"></span>\n", 
        "<span class=\"ansired\">AttributeError</span>: &apos;numpy.ndarray&apos; object has no attribute &apos;second&apos;"
       ]
      }
     ], 
     "prompt_number": 43
    }, 
    {
     "cell_type": "code", 
     "collapsed": true, 
     "input": [
      "#16.4", 
      "", 
      "def increment_pure(time, seconds):", 
      "    newsseconds = 0", 
      "    newsseconds += time.seconds", 
      "    return newsseconds"
     ], 
     "language": "python", 
     "outputs": [], 
     "prompt_number": 49
    }, 
    {
     "cell_type": "code", 
     "collapsed": true, 
     "input": [
      "#16.5", 
      "", 
      "def increment_int2t(time, seconds):", 
      "    seconds += time.seconds", 
      "    return int_to_time(seconds)"
     ], 
     "language": "python", 
     "outputs": [], 
     "prompt_number": 50
    }, 
    {
     "cell_type": "code", 
     "collapsed": true, 
     "input": [], 
     "language": "python", 
     "outputs": [], 
     "prompt_number": "&nbsp;"
    }
   ]
  }
 ]
}