{
 "metadata": {
  "name": "Chapter10-10.1.2.3.4"
 }, 
 "nbformat": 2, 
 "worksheets": [
  {
   "cells": [
    {
     "cell_type": "code", 
     "collapsed": true, 
     "input": [
      "#Chapter 10.1", 
      "", 
      "def cumsum(listing):", 
      "    i = 0", 
      "    total = [0]*len(listing)", 
      "    while i < len(listing):", 
      "        if i == 0:", 
      "            total[0] = listing[0]", 
      "            i = i + 1", 
      "        else:", 
      "            total[i] = total[i-1]+ listing[i]", 
      "            i = i + 1", 
      "    return total"
     ], 
     "language": "python", 
     "outputs": [], 
     "prompt_number": 76
    }, 
    {
     "cell_type": "code", 
     "collapsed": false, 
     "input": [
      "example = [1,2,3]"
     ], 
     "language": "python", 
     "outputs": [], 
     "prompt_number": 77
    }, 
    {
     "cell_type": "code", 
     "collapsed": false, 
     "input": [
      "cumsum(example)"
     ], 
     "language": "python", 
     "outputs": [
      {
       "output_type": "pyout", 
       "prompt_number": 78, 
       "text": [
        "[1, 3, 6]"
       ]
      }
     ], 
     "prompt_number": 78
    }, 
    {
     "cell_type": "code", 
     "collapsed": true, 
     "input": [
      "#Chapter 10.2"
     ], 
     "language": "python", 
     "outputs": [], 
     "prompt_number": 79
    }, 
    {
     "cell_type": "code", 
     "collapsed": false, 
     "input": [
      "def chop(listing):", 
      "    del listing[0]", 
      "    del listing[len(listing) -1]", 
      "    return 0", 
      "", 
      "def middle(listing):", 
      "    result = []", 
      "    i = 1 ", 
      "    while i < len(listing)-1:", 
      "        result.append(listing[i])", 
      "        i = i + 1", 
      "    return result"
     ], 
     "language": "python", 
     "outputs": [], 
     "prompt_number": 86
    }, 
    {
     "cell_type": "code", 
     "collapsed": false, 
     "input": [
      "middle('exterminate')"
     ], 
     "language": "python", 
     "outputs": [
      {
       "output_type": "pyout", 
       "prompt_number": 87, 
       "text": [
        "[&apos;x&apos;, &apos;t&apos;, &apos;e&apos;, &apos;r&apos;, &apos;m&apos;, &apos;i&apos;, &apos;n&apos;, &apos;a&apos;, &apos;t&apos;]"
       ]
      }
     ], 
     "prompt_number": 87
    }, 
    {
     "cell_type": "code", 
     "collapsed": true, 
     "input": [
      "#10.3", 
      "", 
      "def is_sorted(listing):", 
      "    x = 0", 
      "    for i in range(len(listing)):", 
      "        list.append(listing)", 
      "    print list", 
      "    for i in range(len(list)-1):", 
      "        if list[i]<list[i+1]:", 
      "            x += 1", 
      "    if x == len(list)-1:", 
      "        print \"sorted.\"", 
      "    else:", 
      "        print \"not sorted\"", 
      "    ", 
      "    "
     ], 
     "language": "python", 
     "outputs": [], 
     "prompt_number": 129
    }, 
    {
     "cell_type": "code", 
     "collapsed": true, 
     "input": [
      "test = [4,2,3]"
     ], 
     "language": "python", 
     "outputs": [], 
     "prompt_number": 130
    }, 
    {
     "cell_type": "code", 
     "collapsed": true, 
     "input": [
      "test.sort()"
     ], 
     "language": "python", 
     "outputs": [], 
     "prompt_number": 112
    }, 
    {
     "cell_type": "code", 
     "collapsed": false, 
     "input": [
      "print test"
     ], 
     "language": "python", 
     "outputs": [
      {
       "output_type": "stream", 
       "stream": "stdout", 
       "text": [
        "[2, 3, 4]"
       ]
      }
     ], 
     "prompt_number": 113
    }, 
    {
     "cell_type": "code", 
     "collapsed": true, 
     "input": [
      "#Question 10.4", 
      "", 
      "def is_anagram(one, two):", 
      "    i = 0", 
      "    k = 0", 
      "    ", 
      "    #onemod = [one.replace(' ', '') for one in one]", 
      "    #twomod = [two.replace(' ', '') for two in two]", 
      "    #print onemod", 
      "    #print twomod", 
      "    ", 
      "    if(len(one)!=len(two)):", 
      "        return False ", 
      "    while(i < len(one)):", 
      "        j = 0", 
      "        while (j < len(two)):", 
      "            if (one[i] == two[j]):", 
      "                k = k + 1", 
      "                two.remove(two[j])", 
      "            j = j + 1", 
      "        i = i + 1", 
      "    if(k == len(one)):", 
      "        return True", 
      "    else:", 
      "        return False"
     ], 
     "language": "python", 
     "outputs": [], 
     "prompt_number": 150
    }, 
    {
     "cell_type": "code", 
     "collapsed": false, 
     "input": [
      "one = list('complex')", 
      "two = list('legends')", 
      "", 
      "is_anagram(one,two)"
     ], 
     "language": "python", 
     "outputs": [
      {
       "output_type": "pyout", 
       "prompt_number": 151, 
       "text": [
        "False"
       ]
      }
     ], 
     "prompt_number": 151
    }, 
    {
     "cell_type": "code", 
     "collapsed": false, 
     "input": [
      "one = list('undeniable')", 
      "two = list('belaunde in')", 
      "", 
      "is_anagram(one,two)"
     ], 
     "language": "python", 
     "outputs": [
      {
       "output_type": "pyout", 
       "prompt_number": 152, 
       "text": [
        "False"
       ]
      }
     ], 
     "prompt_number": 152
    }, 
    {
     "cell_type": "code", 
     "collapsed": true, 
     "input": [
      "#Function can't handle empty space at current stage"
     ], 
     "language": "python", 
     "outputs": [], 
     "prompt_number": 153
    }, 
    {
     "cell_type": "code", 
     "collapsed": false, 
     "input": [
      "one = list('undeniable')", 
      "two = list('belaundein')", 
      "", 
      "is_anagram(one,two)"
     ], 
     "language": "python", 
     "outputs": [
      {
       "output_type": "pyout", 
       "prompt_number": 154, 
       "text": [
        "True"
       ]
      }
     ], 
     "prompt_number": 154
    }, 
    {
     "cell_type": "code", 
     "collapsed": true, 
     "input": [], 
     "language": "python", 
     "outputs": [], 
     "prompt_number": "&nbsp;"
    }
   ]
  }
 ]
}