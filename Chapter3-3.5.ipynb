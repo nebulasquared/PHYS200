{
 "metadata": {
  "name": "Chapter3-3.5"
 }, 
 "nbformat": 2, 
 "worksheets": [
  {
   "cells": [
    {
     "cell_type": "code", 
     "collapsed": true, 
     "input": [
      "def do_twice(f):", 
      "    f()", 
      "    f()", 
      "    "
     ], 
     "language": "python", 
     "outputs": [], 
     "prompt_number": 147
    }, 
    {
     "cell_type": "code", 
     "collapsed": true, 
     "input": [
      "def do_four(f):", 
      "    do_twice(f)", 
      "    do_twice(f)"
     ], 
     "language": "python", 
     "outputs": [], 
     "prompt_number": 148
    }, 
    {
     "cell_type": "code", 
     "collapsed": true, 
     "input": [
      "def create_column():", 
      "    print '|        '"
     ], 
     "language": "python", 
     "outputs": [], 
     "prompt_number": 149
    }, 
    {
     "cell_type": "code", 
     "collapsed": true, 
     "input": [
      "def create_columns():", 
      "    do_twice(create_column)", 
      "    "
     ], 
     "language": "python", 
     "outputs": [], 
     "prompt_number": 174
    }, 
    {
     "cell_type": "code", 
     "collapsed": true, 
     "input": [
      "def create_row():", 
      "    print '+ - - - -',"
     ], 
     "language": "python", 
     "outputs": [], 
     "prompt_number": 165
    }, 
    {
     "cell_type": "code", 
     "collapsed": true, 
     "input": [
      "def create_rows():", 
      "    do_four(create_row)", 
      "    print '+'"
     ], 
     "language": "python", 
     "outputs": [], 
     "prompt_number": 170
    }, 
    {
     "cell_type": "code", 
     "collapsed": false, 
     "input": [
      "def across():", 
      "    create_rows()", 
      "    do_twice(create_columns)"
     ], 
     "language": "python", 
     "outputs": [], 
     "prompt_number": 172
    }, 
    {
     "cell_type": "code", 
     "collapsed": true, 
     "input": [
      "def create_grid():", 
      "    do_four(across)", 
      "    create_rows()"
     ], 
     "language": "python", 
     "outputs": [], 
     "prompt_number": 178
    }, 
    {
     "cell_type": "code", 
     "collapsed": false, 
     "input": [
      "create_grid()"
     ], 
     "language": "python", 
     "outputs": [
      {
       "output_type": "stream", 
       "stream": "stdout", 
       "text": [
        "+ - - - - + - - - - + - - - - + - - - - +", 
        "|        ", 
        "|        ", 
        "|        ", 
        "|        ", 
        "+ - - - - + - - - - + - - - - + - - - - +", 
        "|        ", 
        "|        ", 
        "|        ", 
        "|        ", 
        "+ - - - - + - - - - + - - - - + - - - - +", 
        "|        ", 
        "|        ", 
        "|        ", 
        "|        ", 
        "+ - - - - + - - - - + - - - - + - - - - +", 
        "|        ", 
        "|        ", 
        "|        ", 
        "|        ", 
        "+ - - - - + - - - - + - - - - + - - - - +"
       ]
      }
     ], 
     "prompt_number": 179
    }, 
    {
     "cell_type": "code", 
     "collapsed": true, 
     "input": [], 
     "language": "python", 
     "outputs": [], 
     "prompt_number": "&nbsp;"
    }
   ]
  }
 ]
}