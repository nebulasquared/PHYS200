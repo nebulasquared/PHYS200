{
 "metadata": {
  "name": "Chapter11-11.1.2.3.4.5"
 }, 
 "nbformat": 2, 
 "worksheets": [
  {
   "cells": [
    {
     "cell_type": "code", 
     "collapsed": true, 
     "input": [
      "#Chapter 11.1", 
      "", 
      "def in_diction(word):", 
      "    dictionary = dict()", 
      "    opening = open('words.txt')", 
      "    allvalues = dictionary.values()", 
      "    ", 
      "    word in allvalues"
     ], 
     "language": "python", 
     "outputs": [], 
     "prompt_number": 2
    }, 
    {
     "cell_type": "code", 
     "collapsed": true, 
     "input": [
      "#Chapter 11.2", 
      "", 
      "#Original histogram:", 
      "    ", 
      "def histogram(s):", 
      "    d = dict()", 
      "    for c in s:", 
      "        if c not in d:", 
      "            d[c] = 1", 
      "        else:", 
      "            d[c] +=1", 
      "    return d"
     ], 
     "language": "python", 
     "outputs": [], 
     "prompt_number": 3
    }, 
    {
     "cell_type": "code", 
     "collapsed": true, 
     "input": [
      "#New Histogram, using similar names as the original", 
      "", 
      "def histogramtwo(s):", 
      "    d = dict()", 
      "    for c in s:", 
      "        d[c] = 1 + d.get(c, 0)", 
      "    return d"
     ], 
     "language": "python", 
     "outputs": [], 
     "prompt_number": 4
    }, 
    {
     "cell_type": "code", 
     "collapsed": false, 
     "input": [
      "s = ('sillipants')", 
      "histogramtwo(s)"
     ], 
     "language": "python", 
     "outputs": [
      {
       "output_type": "pyout", 
       "prompt_number": 14, 
       "text": [
        "{&apos;a&apos;: 1, &apos;i&apos;: 2, &apos;l&apos;: 2, &apos;n&apos;: 1, &apos;p&apos;: 1, &apos;s&apos;: 2, &apos;t&apos;: 1}"
       ]
      }
     ], 
     "prompt_number": 14
    }, 
    {
     "cell_type": "code", 
     "collapsed": true, 
     "input": [
      "#Question 11.3", 
      "", 
      "#Original print_hist", 
      "", 
      "def print_hist(h):", 
      "    for c in h:", 
      "        print c, h[c]"
     ], 
     "language": "python", 
     "outputs": [], 
     "prompt_number": 5
    }, 
    {
     "cell_type": "code", 
     "collapsed": true, 
     "input": [
      "#New print_hist", 
      "", 
      "def print_history(h):", 
      "    thing = list(h.keys())"
     ], 
     "language": "python", 
     "outputs": [], 
     "prompt_number": 6
    }, 
    {
     "cell_type": "code", 
     "collapsed": true, 
     "input": [
      "#Question 11.4", 
      "", 
      "#Original reverse_lookup", 
      "", 
      "def reverse_lookup(d,v):", 
      "    for k in d:", 
      "        if d[k] == v:", 
      "            return k", 
      "    raise ValueError"
     ], 
     "language": "python", 
     "outputs": [], 
     "prompt_number": 7
    }, 
    {
     "cell_type": "code", 
     "collapsed": true, 
     "input": [
      "#New reverse_looking", 
      "", 
      "def reverse_looking(d,v):", 
      "    listing = list()", 
      "    for k in d:", 
      "        if d[k] == v:", 
      "            listing.append(k)", 
      "    return listing"
     ], 
     "language": "python", 
     "outputs": [], 
     "prompt_number": 9
    }, 
    {
     "cell_type": "code", 
     "collapsed": true, 
     "input": [
      "#Question 11.5", 
      "", 
      "#Original invert_dict", 
      "", 
      "def invert_dict(d):", 
      "    inv = dict()", 
      "    for key in d:", 
      "        val = d[key]", 
      "        if val not in inv:", 
      "            inv[val] = [key]", 
      "        else: ", 
      "            inv[val] = [key]", 
      "    return inv"
     ], 
     "language": "python", 
     "outputs": [], 
     "prompt_number": 11
    }, 
    {
     "cell_type": "code", 
     "collapsed": true, 
     "input": [
      "def invert_diction(d):", 
      "    inv = dict()", 
      "    if setdefault(key[inv,default]):", 
      "        return default", 
      "    "
     ], 
     "language": "python", 
     "outputs": [], 
     "prompt_number": 13
    }, 
    {
     "cell_type": "code", 
     "collapsed": true, 
     "input": [], 
     "language": "python", 
     "outputs": [], 
     "prompt_number": "&nbsp;"
    }
   ]
  }
 ]
}