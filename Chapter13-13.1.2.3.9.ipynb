{
 "metadata": {
  "name": "Chapter13-13.1.2.3.9"
 }, 
 "nbformat": 2, 
 "worksheets": [
  {
   "cells": [
    {
     "cell_type": "code", 
     "collapsed": false, 
     "input": [
      "#Chapter 13. Exercise 1", 
      "", 
      "import string", 
      "", 
      "files = open('test.txt')", 
      "", 
      "for word in files:", 
      "    ", 
      "    word = word.strip(string.punctuation)", 
      "    word = word.strip(string.whitespace)", 
      "    word = word.lower()", 
      "    print word", 
      "    "
     ], 
     "language": "python", 
     "outputs": [
      {
       "output_type": "stream", 
       "stream": "stdout", 
       "text": [
        "here i place some words for testing and i will just blabber.", 
        "oh punctuation... never forget *(%&amp;*(#@%", 
        "", 
        "will this function?"
       ]
      }
     ], 
     "prompt_number": 4
    }, 
    {
     "cell_type": "code", 
     "collapsed": false, 
     "input": [
      "#13.2", 
      "", 
      "import string", 
      "", 
      "files = open('LeavesOfGrass.txt')", 
      "", 
      "d = dict()", 
      "total = 0", 
      "", 
      "for line in files:", 
      "    #if line.startswith('LEAVES OF GRASS'):", 
      "    #files.read()", 
      "    #if files.read() == '' : ", 
      "        splitting = line.split()", 
      "        for word in splitting:", 
      "            word = word.strip(string.punctuation)", 
      "            word = word.strip(string.whitespace)", 
      "            word = word.lower()", 
      "            total += 1", 
      "            d[word] = d.get(word, 0) + 1", 
      "print total"
     ], 
     "language": "python", 
     "outputs": [
      {
       "output_type": "stream", 
       "stream": "stdout", 
       "text": [
        "124710"
       ]
      }
     ], 
     "prompt_number": 13
    }, 
    {
     "cell_type": "code", 
     "collapsed": false, 
     "input": [
      "#13.3", 
      "", 
      "files = open('LeavesOfGrass.txt')", 
      "d = dict()", 
      "histog = []", 
      "", 
      "for line in files:", 
      "    for key in d:", 
      "        histog.append((d[key], key))", 
      "        histog.sort(reverse = True)", 
      "        for key in d:", 
      "            histog.append((d[key], key))", 
      "            histog.sort(reverse = True)", 
      "            print 'Most freqent: Top'", 
      "            count = 0", 
      "        for word in histog[:20]:", 
      "            print str(count) +  word + str(num)", 
      "            count += 1", 
      "     print count", 
      "            ", 
      "#Freq. from previous chapter not quite there, as in here"
     ], 
     "language": "python", 
     "outputs": [
      {
       "ename": "IndentationError", 
       "evalue": "unindent does not match any outer indentation level (<ipython-input-37-187a62af1f75>, line 19)", 
       "output_type": "pyerr", 
       "traceback": [
        "<span class=\"ansired\">IndentationError</span><span class=\"ansired\">:</span> unindent does not match any outer indentation level (&lt;ipython-input-37-187a62af1f75&gt;, line 19)\n"
       ]
      }
     ], 
     "prompt_number": 37
    }, 
    {
     "cell_type": "code", 
     "collapsed": true, 
     "input": [
      "", 
      ""
     ], 
     "language": "python", 
     "outputs": [], 
     "prompt_number": "&nbsp;"
    }
   ]
  }
 ]
}