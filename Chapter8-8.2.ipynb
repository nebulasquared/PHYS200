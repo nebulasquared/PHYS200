{
 "metadata": {
  "name": "Chapter8-8.2"
 }, 
 "nbformat": 2, 
 "worksheets": [
  {
   "cells": [
    {
     "cell_type": "code", 
     "collapsed": true, 
     "input": [
      "#Original script"
     ], 
     "language": "python", 
     "outputs": [], 
     "prompt_number": 2
    }, 
    {
     "cell_type": "code", 
     "collapsed": false, 
     "input": [
      "prefixes = 'JKLMNOPQ'", 
      "suffix = 'ack'", 
      "", 
      "for letter in prefixes:", 
      "    print letter + suffix"
     ], 
     "language": "python", 
     "outputs": [
      {
       "output_type": "stream", 
       "stream": "stdout", 
       "text": [
        "Jack", 
        "Kack", 
        "Lack", 
        "Mack", 
        "Nack", 
        "Oack", 
        "Pack", 
        "Qack"
       ]
      }
     ], 
     "prompt_number": 1
    }, 
    {
     "cell_type": "code", 
     "collapsed": true, 
     "input": [
      "#To spell Ouack and Quack correctly:"
     ], 
     "language": "python", 
     "outputs": [], 
     "prompt_number": 3
    }, 
    {
     "cell_type": "code", 
     "collapsed": false, 
     "input": [
      "prefixes = 'JKLMNOPQ'", 
      "suffix = 'ack'", 
      "", 
      "for letter in prefixes:", 
      "    if letter == 'O' or letter == 'Q':", 
      "        suffix = 'uack'", 
      "    print letter + suffix"
     ], 
     "language": "python", 
     "outputs": [
      {
       "output_type": "stream", 
       "stream": "stdout", 
       "text": [
        "Jack", 
        "Kack", 
        "Lack", 
        "Mack", 
        "Nack", 
        "Ouack", 
        "Puack", 
        "Quack"
       ]
      }
     ], 
     "prompt_number": 8
    }, 
    {
     "cell_type": "code", 
     "collapsed": true, 
     "input": [
      "#Hmm... odd"
     ], 
     "language": "python", 
     "outputs": [], 
     "prompt_number": 5
    }, 
    {
     "cell_type": "code", 
     "collapsed": false, 
     "input": [
      "prefixes = 'JKLMN'", 
      "prefix5 = 'Ou'", 
      "prefix6 = 'P'", 
      "prefix7 = 'Qu'", 
      "suffix = 'ack'", 
      "", 
      "for letter in prefixes:", 
      "    print letter + suffix", 
      "print prefix5 + suffix", 
      "print prefix6 + suffix", 
      "print prefix7 + suffix", 
      "    "
     ], 
     "language": "python", 
     "outputs": [
      {
       "output_type": "stream", 
       "stream": "stdout", 
       "text": [
        "Jack", 
        "Kack", 
        "Lack", 
        "Mack", 
        "Nack", 
        "Ouack", 
        "Pack", 
        "Quack"
       ]
      }
     ], 
     "prompt_number": 9
    }, 
    {
     "cell_type": "code", 
     "collapsed": true, 
     "input": [
      "#Works, but isn't very adaptable or elegant", 
      "#Looks like slices would work well for this"
     ], 
     "language": "python", 
     "outputs": [], 
     "prompt_number": 11
    }, 
    {
     "cell_type": "code", 
     "collapsed": true, 
     "input": [], 
     "language": "python", 
     "outputs": [], 
     "prompt_number": "&nbsp;"
    }
   ]
  }
 ]
}