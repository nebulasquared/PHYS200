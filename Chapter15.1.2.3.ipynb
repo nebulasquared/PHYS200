{
 "metadata": {
  "name": "Chapter15.1.2.3"
 }, 
 "nbformat": 2, 
 "worksheets": [
  {
   "cells": [
    {
     "cell_type": "code", 
     "collapsed": false, 
     "input": [
      "#Chapter 15.1", 
      "", 
      "import math", 
      "", 
      "#as in text", 
      "class Point(object):", 
      "    \"\"\"represents a point in 2-d space\"\"\"", 
      "def distance(one, two):", 
      "    distance = math.sqrt((two.x - one.x)**2 + (two.y - one.y)**2)", 
      "    return distance"
     ], 
     "language": "python", 
     "outputs": [], 
     "prompt_number": 9
    }, 
    {
     "cell_type": "code", 
     "collapsed": false, 
     "input": [
      "one.x = 1", 
      "two.x = 1", 
      "one.y = 3", 
      "two.y = 7", 
      "", 
      "distance(one,two)"
     ], 
     "language": "python", 
     "outputs": [
      {
       "output_type": "pyout", 
       "prompt_number": 11, 
       "text": [
        "4.0"
       ]
      }
     ], 
     "prompt_number": 11
    }, 
    {
     "cell_type": "code", 
     "collapsed": true, 
     "input": [
      "#15.2", 
      "", 
      "def move_rectange(rectangle, dx, dy):", 
      "    rectangle.corner.x += dx", 
      "    rectangle.corner.y += dy"
     ], 
     "language": "python", 
     "outputs": [], 
     "prompt_number": 12
    }, 
    {
     "cell_type": "code", 
     "collapsed": false, 
     "input": [
      "#15.3", 
      "", 
      "def move_rectangletwo(rectangle, dx, dy):", 
      "    cc = copy.deepcopy(rectangle)", 
      "    move_rectangle(cc, dx, dy)", 
      "    return cc"
     ], 
     "language": "python", 
     "outputs": [], 
     "prompt_number": 21
    }
   ]
  }
 ]
}