{
 "metadata": {
  "name": "Chapter7-7.4"
 }, 
 "nbformat": 2, 
 "worksheets": [
  {
   "cells": [
    {
     "cell_type": "code", 
     "collapsed": false, 
     "input": [
      "eval('1 + 2 * 3')"
     ], 
     "language": "python", 
     "outputs": [
      {
       "output_type": "pyout", 
       "prompt_number": 1, 
       "text": [
        "7"
       ]
      }
     ], 
     "prompt_number": 1
    }, 
    {
     "cell_type": "code", 
     "collapsed": false, 
     "input": [
      "eval('math.sqrt(5)')"
     ], 
     "language": "python", 
     "outputs": [
      {
       "output_type": "pyout", 
       "prompt_number": 2, 
       "text": [
        "2.23606797749979"
       ]
      }
     ], 
     "prompt_number": 2
    }, 
    {
     "cell_type": "code", 
     "collapsed": false, 
     "input": [
      "eval('type(math.pi)')"
     ], 
     "language": "python", 
     "outputs": [
      {
       "output_type": "pyout", 
       "prompt_number": 3, 
       "text": [
        "float"
       ]
      }
     ], 
     "prompt_number": 3
    }, 
    {
     "cell_type": "code", 
     "collapsed": false, 
     "input": [
      "def eval_loop():", 
      "    while True:", 
      "        input = raw_input('Enter a question; for example math.sqrt(5)')", 
      "        if input == 'done':", 
      "            break", 
      "        solution = eval(input)", 
      "        print solution"
     ], 
     "language": "python", 
     "outputs": [], 
     "prompt_number": 37
    }, 
    {
     "cell_type": "code", 
     "collapsed": false, 
     "input": [
      "eval_loop()"
     ], 
     "language": "python", 
     "outputs": [
      {
       "ename": "StdinNotImplementedError", 
       "evalue": "raw_input was called, but this frontend does not support stdin.", 
       "output_type": "pyerr", 
       "traceback": [
        "<span class=\"ansired\">---------------------------------------------------------------------------</span>\n<span class=\"ansired\">StdinNotImplementedError</span>                  Traceback (most recent call last)", 
        "<span class=\"ansigreen\">/home/kathryn/PHYS200/&lt;ipython-input-40-72bcba2fb816&gt;</span> in <span class=\"ansicyan\">&lt;module&gt;</span><span class=\"ansiblue\">()</span>\n<span class=\"ansigreen\">----&gt; 1</span><span class=\"ansiyellow\"> </span>eval_loop<span class=\"ansiyellow\">(</span><span class=\"ansiyellow\">)</span><span class=\"ansiyellow\"></span>\n", 
        "<span class=\"ansigreen\">/home/kathryn/PHYS200/&lt;ipython-input-37-9cac6c68f754&gt;</span> in <span class=\"ansicyan\">eval_loop</span><span class=\"ansiblue\">()</span>\n<span class=\"ansigreen\">      1</span> <span class=\"ansigreen\">def</span> eval_loop<span class=\"ansiyellow\">(</span><span class=\"ansiyellow\">)</span><span class=\"ansiyellow\">:</span><span class=\"ansiyellow\"></span>\n<span class=\"ansigreen\">      2</span>     <span class=\"ansigreen\">while</span> True<span class=\"ansiyellow\">:</span><span class=\"ansiyellow\"></span>\n<span class=\"ansigreen\">----&gt; 3</span><span class=\"ansiyellow\">         </span>input <span class=\"ansiyellow\">=</span> raw_input<span class=\"ansiyellow\">(</span><span class=\"ansiblue\">&apos;Enter a question; for example math.sqrt(5)&apos;</span><span class=\"ansiyellow\">)</span><span class=\"ansiyellow\"></span>\n<span class=\"ansigreen\">      4</span>         <span class=\"ansigreen\">if</span> input <span class=\"ansiyellow\">==</span> <span class=\"ansiblue\">&apos;done&apos;</span><span class=\"ansiyellow\">:</span><span class=\"ansiyellow\"></span>\n<span class=\"ansigreen\">      5</span>             <span class=\"ansigreen\">break</span><span class=\"ansiyellow\"></span>\n", 
        "<span class=\"ansigreen\">/home/kathryn/Downloads/EPD/lib/python2.7/site-packages/IPython/zmq/ipkernel.pyc</span> in <span class=\"ansicyan\">&lt;lambda&gt;</span><span class=\"ansiblue\">(prompt)</span>\n<span class=\"ansigreen\">    251</span>             raw_input <span class=\"ansiyellow\">=</span> <span class=\"ansigreen\">lambda</span> prompt<span class=\"ansiyellow\">=</span><span class=\"ansiblue\">&apos;&apos;</span><span class=\"ansiyellow\">:</span> self<span class=\"ansiyellow\">.</span>_raw_input<span class=\"ansiyellow\">(</span>prompt<span class=\"ansiyellow\">,</span> ident<span class=\"ansiyellow\">,</span> parent<span class=\"ansiyellow\">)</span><span class=\"ansiyellow\"></span>\n<span class=\"ansigreen\">    252</span>         <span class=\"ansigreen\">else</span><span class=\"ansiyellow\">:</span><span class=\"ansiyellow\"></span>\n<span class=\"ansigreen\">--&gt; 253</span><span class=\"ansiyellow\">             </span>raw_input <span class=\"ansiyellow\">=</span> <span class=\"ansigreen\">lambda</span> prompt<span class=\"ansiyellow\">=</span><span class=\"ansiblue\">&apos;&apos;</span> <span class=\"ansiyellow\">:</span> self<span class=\"ansiyellow\">.</span>_no_raw_input<span class=\"ansiyellow\">(</span><span class=\"ansiyellow\">)</span><span class=\"ansiyellow\"></span>\n<span class=\"ansigreen\">    254</span> <span class=\"ansiyellow\"></span>\n<span class=\"ansigreen\">    255</span>         <span class=\"ansigreen\">if</span> py3compat<span class=\"ansiyellow\">.</span>PY3<span class=\"ansiyellow\">:</span><span class=\"ansiyellow\"></span>\n", 
        "<span class=\"ansigreen\">/home/kathryn/Downloads/EPD/lib/python2.7/site-packages/IPython/zmq/ipkernel.pyc</span> in <span class=\"ansicyan\">_no_raw_input</span><span class=\"ansiblue\">(self)</span>\n<span class=\"ansigreen\">    443</span>         &quot;&quot;&quot;Raise StdinNotImplentedError if active frontend doesn&apos;t support\n<span class=\"ansigreen\">    444</span>         stdin.&quot;&quot;&quot;\n<span class=\"ansigreen\">--&gt; 445</span><span class=\"ansiyellow\">         raise StdinNotImplementedError(&quot;raw_input was called, but this &quot;\n</span><span class=\"ansigreen\">    446</span>                                        &quot;frontend does not support stdin.&quot;) \n<span class=\"ansigreen\">    447</span> <span class=\"ansiyellow\"></span>\n", 
        "<span class=\"ansired\">StdinNotImplementedError</span>: raw_input was called, but this frontend does not support stdin."
       ]
      }
     ], 
     "prompt_number": 40
    }, 
    {
     "cell_type": "code", 
     "collapsed": true, 
     "input": [
      "#I don't know how to fix the problem"
     ], 
     "language": "python", 
     "outputs": [], 
     "prompt_number": 41
    }, 
    {
     "cell_type": "code", 
     "collapsed": true, 
     "input": [], 
     "language": "python", 
     "outputs": [], 
     "prompt_number": "&nbsp;"
    }
   ]
  }
 ]
}