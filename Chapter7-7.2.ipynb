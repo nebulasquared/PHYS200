{
 "metadata": {
  "name": "Chapter7-7.2"
 }, 
 "nbformat": 2, 
 "worksheets": [
  {
   "cells": [
    {
     "cell_type": "code", 
     "collapsed": true, 
     "input": [
      "def square_root(a):", 
      "    x = a/2", 
      "    while True:", 
      "        print x", 
      "        y = (x + a/x) / 2", 
      "        if y == x:", 
      "            break", 
      "        x = y", 
      "    return y"
     ], 
     "language": "python", 
     "outputs": [], 
     "prompt_number": 1
    }, 
    {
     "cell_type": "code", 
     "collapsed": false, 
     "input": [
      "square_root(45)"
     ], 
     "language": "python", 
     "outputs": [
      {
       "output_type": "stream", 
       "stream": "stdout", 
       "text": [
        "22", 
        "12", 
        "7", 
        "6"
       ]
      }, 
      {
       "output_type": "pyout", 
       "prompt_number": 2, 
       "text": [
        "6"
       ]
      }
     ], 
     "prompt_number": 2
    }, 
    {
     "cell_type": "code", 
     "collapsed": false, 
     "input": [
      "def square_root(a):", 
      "    x = float(a)/2", 
      "    while True:", 
      "        print x", 
      "        y = (x + a/x) / 2", 
      "        if abs(y-x) < 0.000000001:", 
      "            break", 
      "        x = y", 
      "    return y"
     ], 
     "language": "python", 
     "outputs": [], 
     "prompt_number": 15
    }, 
    {
     "cell_type": "code", 
     "collapsed": false, 
     "input": [
      "square_root(5)"
     ], 
     "language": "python", 
     "outputs": [
      {
       "output_type": "stream", 
       "stream": "stdout", 
       "text": [
        "2.5", 
        "2.25", 
        "2.23611111111", 
        "2.23606797792"
       ]
      }, 
      {
       "output_type": "pyout", 
       "prompt_number": 16, 
       "text": [
        "2.23606797749979"
       ]
      }
     ], 
     "prompt_number": 16
    }, 
    {
     "cell_type": "code", 
     "collapsed": false, 
     "input": [
      "square_root(45)"
     ], 
     "language": "python", 
     "outputs": [
      {
       "output_type": "stream", 
       "stream": "stdout", 
       "text": [
        "22.5", 
        "12.25", 
        "7.96173469388", 
        "6.80688464909", 
        "6.70891922917", 
        "6.70820397063", 
        "6.7082039325"
       ]
      }, 
      {
       "output_type": "pyout", 
       "prompt_number": 20, 
       "text": [
        "6.708203932499369"
       ]
      }
     ], 
     "prompt_number": 20
    }, 
    {
     "cell_type": "code", 
     "collapsed": true, 
     "input": [], 
     "language": "python", 
     "outputs": [], 
     "prompt_number": "&nbsp;"
    }
   ]
  }
 ]
}