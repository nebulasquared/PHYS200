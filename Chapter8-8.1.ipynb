{
 "metadata": {
  "name": "Chapter8-8.1"
 }, 
 "nbformat": 2, 
 "worksheets": [
  {
   "cells": [
    {
     "cell_type": "code", 
     "collapsed": false, 
     "input": [
      "def forwards(fruit):", 
      "    index = 0", 
      "    while index < len(fruit):", 
      "        letter = fruit[index]", 
      "        print letter", 
      "        index = index + 1"
     ], 
     "language": "python", 
     "outputs": [], 
     "prompt_number": 7
    }, 
    {
     "cell_type": "code", 
     "collapsed": false, 
     "input": [
      "forwards('hello')"
     ], 
     "language": "python", 
     "outputs": [
      {
       "output_type": "stream", 
       "stream": "stdout", 
       "text": [
        "h", 
        "e", 
        "l", 
        "l", 
        "o"
       ]
      }
     ], 
     "prompt_number": 9
    }, 
    {
     "cell_type": "code", 
     "collapsed": false, 
     "input": [
      "def backwards(fruit):", 
      "    index = len(fruit) -1", 
      "    while index >= 0:", 
      "        letter = fruit[index]", 
      "        print letter", 
      "        index = index -1", 
      "", 
      "    "
     ], 
     "language": "python", 
     "outputs": [], 
     "prompt_number": 13
    }, 
    {
     "cell_type": "code", 
     "collapsed": false, 
     "input": [
      "backwards('hello')"
     ], 
     "language": "python", 
     "outputs": [
      {
       "output_type": "stream", 
       "stream": "stdout", 
       "text": [
        "o", 
        "l", 
        "l", 
        "e", 
        "h"
       ]
      }
     ], 
     "prompt_number": 14
    }, 
    {
     "cell_type": "code", 
     "collapsed": true, 
     "input": [], 
     "language": "python", 
     "outputs": [], 
     "prompt_number": "&nbsp;"
    }
   ]
  }
 ]
}