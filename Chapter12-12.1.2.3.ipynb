{
 "metadata": {
  "name": "Chapter12-12.1.2.3"
 }, 
 "nbformat": 2, 
 "worksheets": [
  {
   "cells": [
    {
     "cell_type": "code", 
     "collapsed": true, 
     "input": [
      "#Chapter 12 Exercise 1", 
      "", 
      "def sumall(numbers):", 
      "    value = 0", 
      "    for i in numbers:", 
      "        value = value + i", 
      "    print value"
     ], 
     "language": "python", 
     "outputs": [], 
     "prompt_number": 5
    }, 
    {
     "cell_type": "code", 
     "collapsed": true, 
     "input": [
      "numbers = (1,2,3)"
     ], 
     "language": "python", 
     "outputs": [], 
     "prompt_number": 6
    }, 
    {
     "cell_type": "code", 
     "collapsed": false, 
     "input": [
      "type(numbers)"
     ], 
     "language": "python", 
     "outputs": [
      {
       "output_type": "pyout", 
       "prompt_number": 7, 
       "text": [
        "tuple"
       ]
      }
     ], 
     "prompt_number": 7
    }, 
    {
     "cell_type": "code", 
     "collapsed": false, 
     "input": [
      "sumall(numbers)"
     ], 
     "language": "python", 
     "outputs": [
      {
       "output_type": "stream", 
       "stream": "stdout", 
       "text": [
        "6"
       ]
      }
     ], 
     "prompt_number": 8
    }, 
    {
     "cell_type": "code", 
     "collapsed": true, 
     "input": [
      "#Exercise 2", 
      "", 
      "#Original sortbylength", 
      "", 
      "def sort_by_length(words):", 
      "    t = []", 
      "    for word in words:", 
      "        t.append((len(word),word))", 
      "    t.sort(reverse=True)", 
      "    res = []", 
      "    for length, word in t:", 
      "        res.append(word)", 
      "    return res"
     ], 
     "language": "python", 
     "outputs": [], 
     "prompt_number": 10
    }, 
    {
     "cell_type": "code", 
     "collapsed": false, 
     "input": [
      "words = ('cat', 'bat')", 
      "", 
      "sort_by_length(words)"
     ], 
     "language": "python", 
     "outputs": [
      {
       "output_type": "pyout", 
       "prompt_number": 13, 
       "text": [
        "[&apos;cat&apos;, &apos;bat&apos;]"
       ]
      }
     ], 
     "prompt_number": 13
    }, 
    {
     "cell_type": "code", 
     "collapsed": false, 
     "input": [
      "words = ('jack', 'pat')", 
      "", 
      "sort_by_length(words)"
     ], 
     "language": "python", 
     "outputs": [
      {
       "output_type": "pyout", 
       "prompt_number": 14, 
       "text": [
        "[&apos;jack&apos;, &apos;pat&apos;]"
       ]
      }
     ], 
     "prompt_number": 14
    }, 
    {
     "cell_type": "code", 
     "collapsed": true, 
     "input": [
      "import random", 
      "", 
      "def sort_by_lengths(words):", 
      "    t = []", 
      "    for word in words:", 
      "        t.append((len(word),random.random(),word))", 
      "    t.sort(reverse=True)", 
      "    res = []", 
      "    for length,rand,word in t:", 
      "        res.append(word)", 
      "        ", 
      "    return res"
     ], 
     "language": "python", 
     "outputs": [], 
     "prompt_number": 17
    }, 
    {
     "cell_type": "code", 
     "collapsed": false, 
     "input": [
      "test = ('a', 'b', 'c', 'd', 'e')", 
      "sort_by_lengths(test)"
     ], 
     "language": "python", 
     "outputs": [
      {
       "output_type": "pyout", 
       "prompt_number": 18, 
       "text": [
        "[&apos;b&apos;, &apos;a&apos;, &apos;e&apos;, &apos;d&apos;, &apos;c&apos;]"
       ]
      }
     ], 
     "prompt_number": 18
    }, 
    {
     "cell_type": "code", 
     "collapsed": false, 
     "input": [
      "#Exercise 3", 
      "", 
      "#Chapter 11 ", 
      "def histogramtwo(s):", 
      "    d = dict()", 
      "    for c in s:", 
      "        d[c] = 1 + d.get(c, 0)", 
      "    return d", 
      "#", 
      "", 
      "def most_freqent(letters):", 
      "    t = []", 
      "    i = 0", 
      "    ", 
      "    amount = histogramtwo(letters)", 
      "    t.sort(reverse= True)", 
      "    for i in amount:", 
      "        t.append([amount[i]])", 
      "    for freq in t:", 
      "        print t[i]", 
      "        i = i + 1", 
      "    return t", 
      "", 
      "#Not there yet"
     ], 
     "language": "python", 
     "outputs": [], 
     "prompt_number": 33
    }, 
    {
     "cell_type": "code", 
     "collapsed": true, 
     "input": [
      "test = 'onamonapiadfadf'", 
      "", 
      "most_freqent(test)"
     ], 
     "language": "python", 
     "outputs": [], 
     "prompt_number": "&nbsp;"
    }
   ]
  }
 ]
}