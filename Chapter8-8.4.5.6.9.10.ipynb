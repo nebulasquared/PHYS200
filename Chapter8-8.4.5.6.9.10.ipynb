{
 "metadata": {
  "name": "Chapter8-8.4.5.6.9.10"
 }, 
 "nbformat": 2, 
 "worksheets": [
  {
   "cells": [
    {
     "cell_type": "code", 
     "collapsed": true, 
     "input": [
      "#Problem 8.4", 
      "#Original find", 
      "", 
      "def find(word, letter):", 
      "    index = 0", 
      "    while index < len(word):", 
      "        if word[index] == letter:", 
      "            return index", 
      "        index = index + 1", 
      "    return -1"
     ], 
     "language": "python", 
     "outputs": [], 
     "prompt_number": 1
    }, 
    {
     "cell_type": "code", 
     "collapsed": true, 
     "input": [
      "#Modified find", 
      "", 
      "def findtwo(word, letter, index):", 
      "    while index < len(word):", 
      "        if word[index] == letter:", 
      "            return index", 
      "        index = index + 1", 
      "    return -1"
     ], 
     "language": "python", 
     "outputs": [], 
     "prompt_number": 2
    }, 
    {
     "cell_type": "code", 
     "collapsed": false, 
     "input": [
      "findtwo('compass', 'a', 3)"
     ], 
     "language": "python", 
     "outputs": [
      {
       "output_type": "pyout", 
       "prompt_number": 9, 
       "text": [
        "4"
       ]
      }
     ], 
     "prompt_number": 9
    }, 
    {
     "cell_type": "code", 
     "collapsed": false, 
     "input": [
      "find('dust', 's')"
     ], 
     "language": "python", 
     "outputs": [
      {
       "output_type": "pyout", 
       "prompt_number": 7, 
       "text": [
        "2"
       ]
      }
     ], 
     "prompt_number": 7
    }, 
    {
     "cell_type": "code", 
     "collapsed": false, 
     "input": [
      "findtwo('dust', 's', 2)"
     ], 
     "language": "python", 
     "outputs": [
      {
       "output_type": "pyout", 
       "prompt_number": 35, 
       "text": [
        "2"
       ]
      }
     ], 
     "prompt_number": 35
    }, 
    {
     "cell_type": "code", 
     "collapsed": false, 
     "input": [
      "#Problem 8.5", 
      "", 
      "#Original counting", 
      "", 
      "word = 'banana'", 
      "count = 0", 
      "for letter in word:", 
      "    if letter == 'a':", 
      "        count = count + 1", 
      "print count"
     ], 
     "language": "python", 
     "outputs": [
      {
       "output_type": "stream", 
       "stream": "stdout", 
       "text": [
        "3"
       ]
      }
     ], 
     "prompt_number": 10
    }, 
    {
     "cell_type": "code", 
     "collapsed": true, 
     "input": [
      "def count(word, choice):", 
      "    count = 0", 
      "    for letter in word:", 
      "        if letter == choice:", 
      "            count = count + 1", 
      "    print count"
     ], 
     "language": "python", 
     "outputs": [], 
     "prompt_number": 15
    }, 
    {
     "cell_type": "code", 
     "collapsed": false, 
     "input": [
      "count('banana', 'a')"
     ], 
     "language": "python", 
     "outputs": [
      {
       "output_type": "stream", 
       "stream": "stdout", 
       "text": [
        "3"
       ]
      }
     ], 
     "prompt_number": 16
    }, 
    {
     "cell_type": "code", 
     "collapsed": true, 
     "input": [
      "#Question 8.6", 
      "", 
      "def counttwo(word, letters, index):", 
      "    findtwo(word, letters, index)", 
      "    count = 0", 
      "    for letter in word:", 
      "        if letter == letters:", 
      "            count = count + 1", 
      "    print count", 
      "", 
      "    "
     ], 
     "language": "python", 
     "outputs": [], 
     "prompt_number": 51
    }, 
    {
     "cell_type": "code", 
     "collapsed": false, 
     "input": [
      "findtwo('banana', 'a', 0)"
     ], 
     "language": "python", 
     "outputs": [
      {
       "output_type": "pyout", 
       "prompt_number": 52, 
       "text": [
        "1"
       ]
      }
     ], 
     "prompt_number": 52
    }, 
    {
     "cell_type": "code", 
     "collapsed": false, 
     "input": [
      "counttwo('banana', 'a', 3)"
     ], 
     "language": "python", 
     "outputs": [
      {
       "output_type": "stream", 
       "stream": "stdout", 
       "text": [
        "3"
       ]
      }
     ], 
     "prompt_number": 53
    }, 
    {
     "cell_type": "code", 
     "collapsed": true, 
     "input": [
      "#Question 8.9", 
      "", 
      "#Original is_palindrome", 
      "def is_palindrome(word):", 
      "    if len(word) == 1: #checking case of one letter words", 
      "        return True", 
      "    elif len(word) == 2: #adding the other case of two letter words", 
      "        if first(word) == last(word):", 
      "            return True", 
      "        else:", 
      "            return False", 
      "    if is_palindrome(middle(word)):", 
      "        if first(word) == last(word):", 
      "            return True", 
      "        else:", 
      "            return False", 
      "    else:", 
      "        return False"
     ], 
     "language": "python", 
     "outputs": [], 
     "prompt_number": 55
    }, 
    {
     "cell_type": "code", 
     "collapsed": false, 
     "input": [
      "def is_palindrome_two(word):", 
      "    if word[:] == word[::-1]:", 
      "        print 'This is a palindrome, well done'", 
      "    else:", 
      "        print 'This is not a palindrome'"
     ], 
     "language": "python", 
     "outputs": [], 
     "prompt_number": 64
    }, 
    {
     "cell_type": "code", 
     "collapsed": false, 
     "input": [
      "is_palindrome_two('cheese')"
     ], 
     "language": "python", 
     "outputs": [
      {
       "output_type": "stream", 
       "stream": "stdout", 
       "text": [
        "This is not a palindrome"
       ]
      }
     ], 
     "prompt_number": 65
    }, 
    {
     "cell_type": "code", 
     "collapsed": false, 
     "input": [
      "is_palindrome_two('toot')"
     ], 
     "language": "python", 
     "outputs": [
      {
       "output_type": "stream", 
       "stream": "stdout", 
       "text": [
        "This is a palindrome, well done"
       ]
      }
     ], 
     "prompt_number": 66
    }, 
    {
     "cell_type": "code", 
     "collapsed": true, 
     "input": [
      "#Question 8.10"
     ], 
     "language": "python", 
     "outputs": [], 
     "prompt_number": 67
    }, 
    {
     "cell_type": "code", 
     "collapsed": false, 
     "input": [
      "'    lonely       '.strip()"
     ], 
     "language": "python", 
     "outputs": [
      {
       "output_type": "pyout", 
       "prompt_number": 72, 
       "text": [
        "&apos;lonely&apos;"
       ]
      }
     ], 
     "prompt_number": 72
    }, 
    {
     "cell_type": "code", 
     "collapsed": false, 
     "input": [
      "word = 'original'", 
      "word.replace('original', 'oringality')"
     ], 
     "language": "python", 
     "outputs": [
      {
       "output_type": "pyout", 
       "prompt_number": 85, 
       "text": [
        "&apos;oringality&apos;"
       ]
      }
     ], 
     "prompt_number": 85
    }
   ]
  }
 ]
}