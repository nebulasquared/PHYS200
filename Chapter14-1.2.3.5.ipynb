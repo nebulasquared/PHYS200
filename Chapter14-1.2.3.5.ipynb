{
 "metadata": {
  "name": "Chapter14-1.2.3.5"
 }, 
 "nbformat": 2, 
 "worksheets": [
  {
   "cells": [
    {
     "cell_type": "code", 
     "collapsed": true, 
     "input": [
      "#Chapter 14. 1", 
      "", 
      "#Original walk", 
      "def walk(dir):", 
      "    for name in os.listdir(dir):", 
      "        path = os.path.join(dir,name)", 
      "        if os.path.isfile(path):", 
      "            print path", 
      "        else:", 
      "            walk(path)"
     ], 
     "language": "python", 
     "outputs": [], 
     "prompt_number": 1
    }, 
    {
     "cell_type": "code", 
     "collapsed": true, 
     "input": [
      "def walks(dir):", 
      "    for name in os.listdir(dir):", 
      "        path = os.path.join(dir,name)", 
      "        if os.path.isfile(path):", 
      "            return name", 
      "        else:", 
      "            walk(path)"
     ], 
     "language": "python", 
     "outputs": [], 
     "prompt_number": 2
    }, 
    {
     "cell_type": "code", 
     "collapsed": true, 
     "input": [
      "", 
      ""
     ], 
     "language": "python", 
     "outputs": [], 
     "prompt_number": "&nbsp;"
    }
   ]
  }
 ]
}